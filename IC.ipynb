{
 "cells": [
  {
   "cell_type": "code",
   "execution_count": 6,
   "metadata": {},
   "outputs": [
    {
     "name": "stdout",
     "output_type": "stream",
     "text": [
      "Intervalo de confianza del 95% para la presión arterial: (120.37, 122.36)\n"
     ]
    }
   ],
   "source": [
    "import numpy as np\n",
    "import scipy.stats as stats\n",
    "# Datos simulados: presión arterial de 30 pacientes\n",
    "\n",
    "presion_arterial = np.array([120, 122, 118, 125, 119, 121, 117, 126, 124, 122,\n",
    "                             121, 119, 118, 120, 123, 125, 119, 120, 118, 126,\n",
    "                             124, 122, 119, 121, 123, 118, 120, 124, 122, 125])\n",
    "\n",
    "# Calcular media y desviación estándar\n",
    "media = np.mean(presion_arterial)\n",
    "desviacion = np.std(presion_arterial, ddof=1)  # ddof=1 para muestras\n",
    "\n",
    "# Intervalo de confianza del 95%\n",
    "n = len(presion_arterial)\n",
    "confianza = 0.95\n",
    "t_critical = stats.t.ppf((1 + confianza) / 2, df=n-1)  # Valor crítico t\n",
    "margen_error = t_critical * (desviacion / np.sqrt(n))\n",
    "\n",
    "# Calcular límites del intervalo de confianza\n",
    "IC_lower = media - margen_error\n",
    "IC_upper = media + margen_error\n",
    "\n",
    "print(f\"Intervalo de confianza del 95% para la presión arterial: ({IC_lower:.2f}, {IC_upper:.2f})\")\n"
   ]
  },
  {
   "cell_type": "code",
   "execution_count": null,
   "metadata": {},
   "outputs": [],
   "source": [
    "from pydoc import describe\n",
    "\n",
    "\n",
    "describe()\n",
    "\n"
   ]
  },
  {
   "cell_type": "code",
   "execution_count": null,
   "metadata": {},
   "outputs": [],
   "source": []
  },
  {
   "cell_type": "code",
   "execution_count": null,
   "metadata": {},
   "outputs": [],
   "source": []
  }
 ],
 "metadata": {
  "kernelspec": {
   "display_name": "Python 3",
   "language": "python",
   "name": "python3"
  },
  "language_info": {
   "codemirror_mode": {
    "name": "ipython",
    "version": 3
   },
   "file_extension": ".py",
   "mimetype": "text/x-python",
   "name": "python",
   "nbconvert_exporter": "python",
   "pygments_lexer": "ipython3",
   "version": "3.9.6"
  }
 },
 "nbformat": 4,
 "nbformat_minor": 2
}
