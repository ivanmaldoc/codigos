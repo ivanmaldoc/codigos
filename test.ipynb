{
 "cells": [
  {
   "cell_type": "code",
   "execution_count": 1,
   "metadata": {},
   "outputs": [
    {
     "name": "stdout",
     "output_type": "stream",
     "text": [
      "Estadístico t: 8.5968\n",
      "Valor p: 0.0000\n",
      "Rechazamos la hipótesis nula: la nueva estrategia ha aumentado significativamente la conversión.\n"
     ]
    }
   ],
   "source": [
    "import numpy as np\n",
    "import scipy.stats as stats\n",
    "\n",
    "# Datos simulados: tasa de conversión (% de clientes que compraron)\n",
    "conversion_antes = np.array([2.1, 2.5, 2.3, 2.2, 2.0, 2.4, 2.1, 2.3, 2.6, 2.0])\n",
    "conversion_despues = np.array([2.8, 3.0, 2.9, 3.1, 3.2, 2.7, 3.0, 3.3, 3.1, 2.9])\n",
    "\n",
    "# Prueba t para muestras pareadas (porque comparamos la misma población en dos momentos)\n",
    "t_stat, p_value = stats.ttest_rel(conversion_despues, conversion_antes)\n",
    "\n",
    "print(f\"Estadístico t: {t_stat:.4f}\")\n",
    "print(f\"Valor p: {p_value:.4f}\")\n",
    "\n",
    "# Nivel de significancia\n",
    "alpha = 0.05\n",
    "\n",
    "if p_value < alpha:\n",
    "    print(\"Rechazamos la hipótesis nula: la nueva estrategia ha aumentado significativamente la conversión.\")\n",
    "else:\n",
    "    print(\"No se puede rechazar la hipótesis nula: no hay evidencia suficiente de mejora significativa.\")\n"
   ]
  }
 ],
 "metadata": {
  "kernelspec": {
   "display_name": "Python 3",
   "language": "python",
   "name": "python3"
  },
  "language_info": {
   "codemirror_mode": {
    "name": "ipython",
    "version": 3
   },
   "file_extension": ".py",
   "mimetype": "text/x-python",
   "name": "python",
   "nbconvert_exporter": "python",
   "pygments_lexer": "ipython3",
   "version": "3.9.6"
  }
 },
 "nbformat": 4,
 "nbformat_minor": 2
}
