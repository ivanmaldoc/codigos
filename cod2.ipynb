{
 "cells": [
  {
   "cell_type": "code",
   "execution_count": null,
   "metadata": {},
   "outputs": [],
   "source": [
    "import numpy as np\n",
    "import pandas as pd\n",
    "import matplotlib.pyplot as plt\n",
    "import seaborn as sns\n",
    "from sklearn.cluster import KMeans\n",
    "from sklearn.preprocessing import StandardScaler\n",
    "\n",
    "# 📌 Generación de datos de 100 clientes con ingresos y gasto anual\n",
    "np.random.seed(42)  # Para reproducibilidad de resultados\n",
    "\n",
    "# Ingresos en miles de dólares (entre 15K y 200K)\n",
    "ingresos = np.random.randint(15, 200, 100)\n",
    "# Gasto anual en miles de dólares (entre 5K y 150K)\n",
    "gasto = np.random.randint(5, 150, 100)\n",
    "\n",
    "# Crear DataFrame con los datos\n",
    "df = pd.DataFrame({'Ingresos_Anuales': ingresos, 'Gasto_Anual': gasto})\n",
    "\n",
    "# 📌 Normalización de los datos para que todas las variables tengan la misma escala\n",
    "scaler = StandardScaler()  # Inicializar el normalizador\n",
    "df_scaled = scaler.fit_transform(df)  # Aplicar normalización\n",
    "\n",
    "# 📌 Aplicar K-Means con 5 clusters\n",
    "kmeans = KMeans(n_clusters=5, random_state=42)  # Definir el modelo con 5 clusters\n",
    "df['Cluster'] = kmeans.fit_predict(df_scaled)  # Asignar cluster a cada cliente\n",
    "\n",
    "# 📌 Visualización del Clustering\n",
    "plt.figure(figsize=(10,6))\n",
    "sns.scatterplot(x=df['Ingresos_Anuales'], y=df['Gasto_Anual'], hue=df['Cluster'], palette='viridis', s=100)\n",
    "plt.scatter(kmeans.cluster_centers_[:,0] * scaler.scale_[0] + scaler.mean_[0], \n",
    "            kmeans.cluster_centers_[:,1] * scaler.scale_[1] + scaler.mean_[1], \n",
    "            color='red', marker='X', s=200, label=\"Centroides\")\n",
    "plt.xlabel(\"Ingresos Anuales ($1000)\")\n",
    "plt.ylabel(\"Gasto Anual ($1000)\")\n",
    "plt.title(\"Segmentación de Clientes con K-Means (100 Clientes, 5 Clusters)\")\n",
    "plt.legend()\n",
    "plt.show()\n",
    "\n",
    "# 📌 Método del Codo para determinar el número óptimo de clusters\n",
    "inercia = []  # Lista para almacenar la inercia de cada número de clusters\n",
    "K_range = range(1, 10)  # Evaluamos K desde 1 hasta 9\n",
    "\n",
    "for k in K_range:\n",
    "    kmeans = KMeans(n_clusters=k, random_state=42)\n",
    "    kmeans.fit(df_scaled)\n",
    "    inercia.append(kmeans.inertia_)  # Guardar la inercia\n",
    "\n",
    "# 📌 Gráfico del Método del Codo\n",
    "plt.figure(figsize=(8,5))\n",
    "plt.plot(K_range, inercia, marker='o', linestyle='--')\n",
    "plt.xlabel(\"Número de Clusters (K)\")\n",
    "plt.ylabel(\"Inercia\")\n",
    "plt.title(\"Método del Codo para Encontrar el Mejor K\")\n",
    "plt.show()\n"
   ]
  }
 ],
 "metadata": {
  "kernelspec": {
   "display_name": "Python 3",
   "language": "python",
   "name": "python3"
  },
  "language_info": {
   "codemirror_mode": {
    "name": "ipython",
    "version": 3
   },
   "file_extension": ".py",
   "mimetype": "text/x-python",
   "name": "python",
   "nbconvert_exporter": "python",
   "pygments_lexer": "ipython3",
   "version": "3.9.6"
  }
 },
 "nbformat": 4,
 "nbformat_minor": 2
}
