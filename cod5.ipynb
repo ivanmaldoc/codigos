{
 "cells": [
  {
   "cell_type": "code",
   "execution_count": 20,
   "metadata": {},
   "outputs": [
    {
     "name": "stdout",
     "output_type": "stream",
     "text": [
      "Documento guardado como Comparacion_Clustering.docx\n"
     ]
    }
   ],
   "source": [
    "from docx import Document\n",
    "\n",
    "# Crear un documento de Word\n",
    "doc = Document()\n",
    "\n",
    "# Agregar título\n",
    "doc.add_heading('Comparación de Algoritmos de Clustering', level=1)\n",
    "\n",
    "# Crear tabla con 4 columnas (Criterio + 3 algoritmos)\n",
    "table = doc.add_table(rows=1, cols=4)\n",
    "table.style = 'Table Grid'  # Estilo de tabla\n",
    "\n",
    "# Encabezados de la tabla\n",
    "hdr_cells = table.rows[0].cells\n",
    "hdr_cells[0].text = 'Criterio'\n",
    "hdr_cells[1].text = 'K-Means'\n",
    "hdr_cells[2].text = 'Clustering Jerárquico'\n",
    "hdr_cells[3].text = 'DBSCAN'\n",
    "\n",
    "# Datos de la tabla\n",
    "data = [\n",
    "    (\"Definición\", \"Divide los datos en *K* grupos basados en centroides.\",\n",
    "     \"Crea una jerarquía de clusters mediante un dendrograma.\",\n",
    "     \"Agrupa datos en regiones densas sin necesidad de centroides.\"),\n",
    "    \n",
    "    (\"Número de clusters\", \"Se debe definir previamente (K).\",\n",
    "     \"Se puede definir después observando el dendrograma.\",\n",
    "     \"No es necesario definirlo, se agrupa por densidad.\"),\n",
    "    \n",
    "    (\"Forma de los clusters\", \"Esféricos o compactos.\",\n",
    "     \"Puede tener formas variadas pero es menos flexible.\",\n",
    "     \"Puede detectar clusters de formas arbitrarias.\"),\n",
    "    \n",
    "    (\"Manejo de ruido/outliers\", \"Sensible a outliers, los afecta significativamente.\",\n",
    "     \"Puede detectar outliers, pero no los separa claramente.\",\n",
    "     \"Identifica ruido y lo etiqueta como -1.\"),\n",
    "    \n",
    "    (\"Eficiencia\", \"Rápido en datasets grandes.\",\n",
    "     \"Costoso computacionalmente en grandes volúmenes.\",\n",
    "     \"Puede ser lento en grandes datasets.\"),\n",
    "    \n",
    "    (\"Ventajas\", \"Fácil de entender e implementar, eficiente en grandes volúmenes.\",\n",
    "     \"No requiere definir *K* y proporciona una estructura jerárquica.\",\n",
    "     \"Detecta outliers, encuentra clusters con formas arbitrarias y no requiere *K*.\"),\n",
    "    \n",
    "    (\"Desventajas\", \"Necesita definir *K*, no maneja bien formas irregulares ni outliers.\",\n",
    "     \"Computacionalmente costoso y sensible a ruido.\",\n",
    "     \"Sensible a los parámetros `eps` y `min_samples`, puede fallar en clusters de diferente densidad.\"),\n",
    "    \n",
    "    (\"Aplicaciones\", \"Segmentación de clientes, compresión de imágenes, reconocimiento de patrones.\",\n",
    "     \"Biología (taxonomía), segmentación de documentos, análisis genealógico.\",\n",
    "     \"Detección de anomalías, agrupamiento espacial, análisis de tráfico.\")\n",
    "]\n",
    "\n",
    "# Agregar filas con los datos\n",
    "for row_data in data:\n",
    "    row_cells = table.add_row().cells\n",
    "    for i, text in enumerate(row_data):\n",
    "        row_cells[i].text = text\n",
    "\n",
    "# Guardar el documento\n",
    "file_path = \"Comparacion_Clustering.docx\"\n",
    "doc.save(file_path)\n",
    "\n",
    "print(f\"Documento guardado como {file_path}\")\n"
   ]
  }
 ],
 "metadata": {
  "kernelspec": {
   "display_name": "Python 3",
   "language": "python",
   "name": "python3"
  },
  "language_info": {
   "codemirror_mode": {
    "name": "ipython",
    "version": 3
   },
   "file_extension": ".py",
   "mimetype": "text/x-python",
   "name": "python",
   "nbconvert_exporter": "python",
   "pygments_lexer": "ipython3",
   "version": "3.9.6"
  }
 },
 "nbformat": 4,
 "nbformat_minor": 2
}
